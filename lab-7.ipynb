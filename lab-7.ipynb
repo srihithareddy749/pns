{
  "nbformat": 4,
  "nbformat_minor": 0,
  "metadata": {
    "colab": {
      "provenance": [],
      "authorship_tag": "ABX9TyM1YHV3eKK55HaXNtE/yFtb",
      "include_colab_link": true
    },
    "kernelspec": {
      "name": "python3",
      "display_name": "Python 3"
    },
    "language_info": {
      "name": "python"
    }
  },
  "cells": [
    {
      "cell_type": "markdown",
      "metadata": {
        "id": "view-in-github",
        "colab_type": "text"
      },
      "source": [
        "<a href=\"https://colab.research.google.com/github/srihithareddy749/pns/blob/main/lab-7.ipynb\" target=\"_parent\"><img src=\"https://colab.research.google.com/assets/colab-badge.svg\" alt=\"Open In Colab\"/></a>"
      ]
    },
    {
      "cell_type": "code",
      "execution_count": null,
      "metadata": {
        "colab": {
          "base_uri": "https://localhost:8080/"
        },
        "id": "vjj7tbQejJTQ",
        "outputId": "0d6f12c9-0dde-4566-baeb-7267a55b2493"
      },
      "outputs": [
        {
          "output_type": "stream",
          "name": "stdout",
          "text": [
            "Sample Mean: ₹27466.67\n",
            "Sample Standard Deviation: ₹3748.65\n",
            "95% Confidence Interval: ₹25390.73 to ₹29542.60\n",
            "The claimed mean of ₹30,000 is significantly different from the sample mean.\n",
            "The claimed mean of ₹30,000 is significantly different from the sample mean.\n"
          ]
        }
      ],
      "source": [
        "import numpy as np\n",
        "import scipy.stats as stats\n",
        "\n",
        "# Data: monthly living costs of 15 people in Hyderabad\n",
        "data = [25000, 31000, 20000, 28000, 29500, 32000, 21000, 30500, 27000, 28500, 30000, 23000, 31000, 26000, 29500]\n",
        "\n",
        "# 1. Compute sample mean and standard deviation\n",
        "sample_mean = np.mean(data)\n",
        "import numpy as np\n",
        "import scipy.stats as stats\n",
        "\n",
        "# Data: monthly living costs of 15 people in Hyderabad\n",
        "data = [25000, 31000, 20000, 28000, 29500, 32000, 21000, 30500, 27000, 28500, 30000, 23000, 31000, 26000, 29500]\n",
        "\n",
        "# 1. Compute sample mean and standard deviation\n",
        "sample_mean = np.mean(data)\n",
        "sample_std = np.std(data, ddof=1)  # Using ddof=1 for sample standard deviation\n",
        "sample_size = len(data)\n",
        "\n",
        "# 2. Calculate the 95% confidence interval\n",
        "alpha = 0.05  # Significance level\n",
        "t_critical = stats.t.ppf(1 - alpha/2, df=sample_size - 1) #degrees of freedom = n-1\n",
        "margin_of_error = t_critical * (sample_std / np.sqrt(sample_size))\n",
        "confidence_interval = (sample_mean - margin_of_error, sample_mean + margin_of_error)\n",
        "claimed_mean = 30000\n",
        "\n",
        "print(f\"Sample Mean: ₹{sample_mean:.2f}\")\n",
        "print(f\"Sample Standard Deviation: ₹{sample_std:.2f}\")\n",
        "print(f\"95% Confidence Interval: ₹{confidence_interval[0]:.2f} to ₹{confidence_interval[1]:.2f}\")\n",
        "\n",
        "# Check if the claimed mean lies within the confidence interval\n",
        "if confidence_interval[0] <= claimed_mean <= confidence_interval[1]:\n",
        "    print(\"The claimed mean of ₹30,000 is not significantly different from the sample mean.\")\n",
        "else:\n",
        "    print(\"The claimed mean of ₹30,000 is significantly different from the sample mean.\")\n",
        "# Check if the claimed mean lies within the confidence interval\n",
        "if confidence_interval[0] <= claimed_mean <= confidence_interval[1]:\n",
        "    print(\"The claimed mean of ₹30,000 is not significantly different from the sample mean.\")\n",
        "else:\n",
        "    print(\"The claimed mean of ₹30,000 is significantly different from the sample mean.\")\n"
      ]
    }
  ]
}